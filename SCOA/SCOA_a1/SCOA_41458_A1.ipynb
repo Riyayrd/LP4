{
 "cells": [
  {
   "cell_type": "code",
   "execution_count": 1,
   "metadata": {},
   "outputs": [
    {
     "name": "stdout",
     "output_type": "stream",
     "text": [
      "Fuzzy Set A =  {'a': 0.4, 'b': 0.1, 'c': 0.4, 'd': 0.6, 'e': 0.3}\n",
      "Fuzzy Set B =  {'a': 0.6, 'b': 0.3, 'c': 0.5, 'd': 0.4, 'f': 0.9}\n"
     ]
    }
   ],
   "source": [
    "A = {\"a\": 0.4, \"b\": 0.1, \"c\": 0.4, \"d\": 0.6, \"e\":0.3}\n",
    "B = {\"a\": 0.6, \"b\": 0.3, \"c\": 0.5, \"d\": 0.4, \"f\":0.9}\n",
    "\n",
    "print('Fuzzy Set A = ', A) \n",
    "print('Fuzzy Set B = ', B) "
   ]
  },
  {
   "cell_type": "code",
   "execution_count": 2,
   "metadata": {},
   "outputs": [
    {
     "name": "stdout",
     "output_type": "stream",
     "text": [
      "A ∩ B =  {'a': 0.4, 'b': 0.1, 'c': 0.4, 'd': 0.4}\n"
     ]
    }
   ],
   "source": [
    "# Intersection\n",
    "\n",
    "def Intersection(A, B):\n",
    "\n",
    "    Fuzzy_temp1 = A.copy()\n",
    "    Fuzzy_temp2 = B.copy()\n",
    "\n",
    "    intersection_result = dict({})\n",
    "\n",
    "    for element in Fuzzy_temp1.keys():\n",
    "\n",
    "        if element not in Fuzzy_temp2.keys():\n",
    "\n",
    "            Fuzzy_temp2[element] = 0\n",
    "\n",
    "        if Fuzzy_temp1[element] < Fuzzy_temp2[element]:\n",
    "\n",
    "            intersection_result[element] = Fuzzy_temp1[element]\n",
    "\n",
    "        else:\n",
    "\n",
    "            intersection_result[element] = Fuzzy_temp2[element]\n",
    "\n",
    "\n",
    "    for element in Fuzzy_temp2.keys():\n",
    "\n",
    "        if element not in Fuzzy_temp1.keys():\n",
    "\n",
    "            Fuzzy_temp1[element] = 0\n",
    "\n",
    "        if element in intersection_result.keys():\n",
    "\n",
    "            continue\n",
    "\n",
    "        if Fuzzy_temp1[element] < Fuzzy_temp2[element]:\n",
    "\n",
    "            intersection_result[element] = Fuzzy_temp1[element]\n",
    "\n",
    "        else:\n",
    "\n",
    "            intersection_result[element] = Fuzzy_temp2[element]\n",
    "\n",
    "\n",
    "    elements = list(intersection_result.keys())\n",
    "\n",
    "    for element in elements:\n",
    "\n",
    "        if intersection_result[element] == 0:\n",
    "\n",
    "            del intersection_result[element]\n",
    "    \n",
    "    return intersection_result\n",
    "\n",
    "intersectionAB = Intersection(A, B)\n",
    "\n",
    "print('A ∩ B = ', intersectionAB)"
   ]
  },
  {
   "cell_type": "code",
   "execution_count": 3,
   "metadata": {},
   "outputs": [
    {
     "name": "stdout",
     "output_type": "stream",
     "text": [
      "Ac =  {'a': 0.6, 'b': 0.9, 'c': 0.6, 'd': 0.4, 'e': 0.7}\n",
      "Bc =  {'a': 0.4, 'b': 0.7, 'c': 0.5, 'd': 0.6, 'f': 0.09999999999999998}\n"
     ]
    }
   ],
   "source": [
    "# Complement\n",
    "\n",
    "def Complement(A):\n",
    "\n",
    "    Fuzzy_temp = A.copy()\n",
    "\n",
    "    A_complement = dict({})\n",
    "\n",
    "    for element in Fuzzy_temp.keys():\n",
    "\n",
    "        A_complement[element] = 1 - Fuzzy_temp[element]\n",
    "\n",
    "    return A_complement\n",
    "\n",
    "complementOfA = Complement(A)\n",
    "print('Ac = ', complementOfA)\n",
    "\n",
    "complementOfB = Complement(B)\n",
    "print('Bc = ', complementOfB)"
   ]
  },
  {
   "cell_type": "code",
   "execution_count": 4,
   "metadata": {},
   "outputs": [
    {
     "name": "stdout",
     "output_type": "stream",
     "text": [
      "A U B =  {'a': 0.6, 'b': 0.3, 'c': 0.5, 'd': 0.4, 'e': 0, 'f': 0.9}\n"
     ]
    }
   ],
   "source": [
    "def Union(A, B):\n",
    "    \n",
    "    # Union\n",
    "\n",
    "    Fuzzy_temp1 = A.copy()\n",
    "    Fuzzy_temp2 = B.copy()\n",
    "\n",
    "    union_result = dict({})\n",
    "\n",
    "    for element in Fuzzy_temp1.keys():\n",
    "\n",
    "        if element not in Fuzzy_temp2.keys():\n",
    "\n",
    "            Fuzzy_temp2[element] = 0\n",
    "\n",
    "        if Fuzzy_temp1[element] > Fuzzy_temp1[element]:\n",
    "\n",
    "            union_result[element] = Fuzzy_temp1[element]\n",
    "\n",
    "        else:\n",
    "\n",
    "            union_result[element] = Fuzzy_temp2[element]\n",
    "\n",
    "\n",
    "    for element in Fuzzy_temp2.keys():\n",
    "\n",
    "        if element not in Fuzzy_temp1.keys():\n",
    "\n",
    "            Fuzzy_temp1[element] = 0\n",
    "\n",
    "        if element in union_result.keys():\n",
    "\n",
    "            continue\n",
    "\n",
    "        if Fuzzy_temp1[element] > Fuzzy_temp2[element]:\n",
    "\n",
    "            union_result[element] = Fuzzy_temp1[element]\n",
    "\n",
    "        else:\n",
    "\n",
    "            union_result[element] = Fuzzy_temp2[element]\n",
    "    \n",
    "    return union_result\n",
    "\n",
    "unionAB = Union(A, B)\n",
    "\n",
    "print('A U B = ', unionAB)"
   ]
  },
  {
   "cell_type": "code",
   "execution_count": 5,
   "metadata": {},
   "outputs": [
    {
     "name": "stdout",
     "output_type": "stream",
     "text": [
      "A - B =  {'a': 0.4, 'b': 0.1, 'c': 0.4, 'd': 0.6}\n"
     ]
    }
   ],
   "source": [
    "def Difference(A, B):\n",
    "    \n",
    "    return Intersection(A, Complement(B))\n",
    "\n",
    "differenceOfAB = Difference(A, B)\n",
    "\n",
    "print(\"A - B = \", differenceOfAB)"
   ]
  },
  {
   "cell_type": "code",
   "execution_count": 6,
   "metadata": {},
   "outputs": [],
   "source": [
    "X = {\"x1\": 0.5, \"x2\": 0.1, \"x3\": 0.4, \"x4\": 0.6}\n",
    "Y = {\"y1\": 0.2, \"y2\": 0.3, \"y3\": 0.5}\n",
    "Z = {\"z1\": 0.7, \"z2\": 0.4, \"z3\": 0.9, \"z4\": 0.3}"
   ]
  },
  {
   "cell_type": "code",
   "execution_count": 7,
   "metadata": {},
   "outputs": [
    {
     "data": {
      "text/html": [
       "<div>\n",
       "<style scoped>\n",
       "    .dataframe tbody tr th:only-of-type {\n",
       "        vertical-align: middle;\n",
       "    }\n",
       "\n",
       "    .dataframe tbody tr th {\n",
       "        vertical-align: top;\n",
       "    }\n",
       "\n",
       "    .dataframe thead th {\n",
       "        text-align: right;\n",
       "    }\n",
       "</style>\n",
       "<table border=\"1\" class=\"dataframe\">\n",
       "  <thead>\n",
       "    <tr style=\"text-align: right;\">\n",
       "      <th></th>\n",
       "      <th>y1</th>\n",
       "      <th>y2</th>\n",
       "      <th>y3</th>\n",
       "    </tr>\n",
       "  </thead>\n",
       "  <tbody>\n",
       "    <tr>\n",
       "      <th>x1</th>\n",
       "      <td>0.2</td>\n",
       "      <td>0.3</td>\n",
       "      <td>0.5</td>\n",
       "    </tr>\n",
       "    <tr>\n",
       "      <th>x2</th>\n",
       "      <td>0.1</td>\n",
       "      <td>0.1</td>\n",
       "      <td>0.1</td>\n",
       "    </tr>\n",
       "    <tr>\n",
       "      <th>x3</th>\n",
       "      <td>0.2</td>\n",
       "      <td>0.3</td>\n",
       "      <td>0.4</td>\n",
       "    </tr>\n",
       "    <tr>\n",
       "      <th>x4</th>\n",
       "      <td>0.2</td>\n",
       "      <td>0.3</td>\n",
       "      <td>0.5</td>\n",
       "    </tr>\n",
       "  </tbody>\n",
       "</table>\n",
       "</div>"
      ],
      "text/plain": [
       "     y1   y2   y3\n",
       "x1  0.2  0.3  0.5\n",
       "x2  0.1  0.1  0.1\n",
       "x3  0.2  0.3  0.4\n",
       "x4  0.2  0.3  0.5"
      ]
     },
     "execution_count": 7,
     "metadata": {},
     "output_type": "execute_result"
    }
   ],
   "source": [
    "import pandas as pd\n",
    "import numpy as np\n",
    "\n",
    "def CartesianProduct(X, Y):\n",
    "    \n",
    "    data = []\n",
    "    \n",
    "    for xi in X.keys():\n",
    "        \n",
    "        row = []\n",
    "        \n",
    "        for yj in Y.keys():\n",
    "            \n",
    "            row.append(np.minimum(X[xi], Y[yj]))\n",
    "        \n",
    "        data.append(row)\n",
    "    \n",
    "    i = list(X.keys())\n",
    "    c = list(Y.keys())\n",
    "    \n",
    "    cartesianProduct = pd.DataFrame(data, columns = c, index = i)\n",
    "    \n",
    "    return cartesianProduct\n",
    "\n",
    "CP_XY = CartesianProduct(X, Y)\n",
    "CP_YZ = CartesianProduct(Y, Z)\n",
    "\n",
    "CP_XY"
   ]
  },
  {
   "cell_type": "code",
   "execution_count": 8,
   "metadata": {},
   "outputs": [
    {
     "data": {
      "text/html": [
       "<div>\n",
       "<style scoped>\n",
       "    .dataframe tbody tr th:only-of-type {\n",
       "        vertical-align: middle;\n",
       "    }\n",
       "\n",
       "    .dataframe tbody tr th {\n",
       "        vertical-align: top;\n",
       "    }\n",
       "\n",
       "    .dataframe thead th {\n",
       "        text-align: right;\n",
       "    }\n",
       "</style>\n",
       "<table border=\"1\" class=\"dataframe\">\n",
       "  <thead>\n",
       "    <tr style=\"text-align: right;\">\n",
       "      <th></th>\n",
       "      <th>z1</th>\n",
       "      <th>z2</th>\n",
       "      <th>z3</th>\n",
       "      <th>z4</th>\n",
       "    </tr>\n",
       "  </thead>\n",
       "  <tbody>\n",
       "    <tr>\n",
       "      <th>y1</th>\n",
       "      <td>0.2</td>\n",
       "      <td>0.2</td>\n",
       "      <td>0.2</td>\n",
       "      <td>0.2</td>\n",
       "    </tr>\n",
       "    <tr>\n",
       "      <th>y2</th>\n",
       "      <td>0.3</td>\n",
       "      <td>0.3</td>\n",
       "      <td>0.3</td>\n",
       "      <td>0.3</td>\n",
       "    </tr>\n",
       "    <tr>\n",
       "      <th>y3</th>\n",
       "      <td>0.5</td>\n",
       "      <td>0.4</td>\n",
       "      <td>0.5</td>\n",
       "      <td>0.3</td>\n",
       "    </tr>\n",
       "  </tbody>\n",
       "</table>\n",
       "</div>"
      ],
      "text/plain": [
       "     z1   z2   z3   z4\n",
       "y1  0.2  0.2  0.2  0.2\n",
       "y2  0.3  0.3  0.3  0.3\n",
       "y3  0.5  0.4  0.5  0.3"
      ]
     },
     "execution_count": 8,
     "metadata": {},
     "output_type": "execute_result"
    }
   ],
   "source": [
    "CP_YZ"
   ]
  },
  {
   "cell_type": "code",
   "execution_count": 9,
   "metadata": {},
   "outputs": [
    {
     "data": {
      "text/plain": [
       "array([[0.2, 0.3, 0.5],\n",
       "       [0.1, 0.1, 0.1],\n",
       "       [0.2, 0.3, 0.4],\n",
       "       [0.2, 0.3, 0.5]])"
      ]
     },
     "execution_count": 9,
     "metadata": {},
     "output_type": "execute_result"
    }
   ],
   "source": [
    "np.array(CP_XY)"
   ]
  },
  {
   "cell_type": "code",
   "execution_count": 10,
   "metadata": {},
   "outputs": [
    {
     "data": {
      "text/html": [
       "<div>\n",
       "<style scoped>\n",
       "    .dataframe tbody tr th:only-of-type {\n",
       "        vertical-align: middle;\n",
       "    }\n",
       "\n",
       "    .dataframe tbody tr th {\n",
       "        vertical-align: top;\n",
       "    }\n",
       "\n",
       "    .dataframe thead th {\n",
       "        text-align: right;\n",
       "    }\n",
       "</style>\n",
       "<table border=\"1\" class=\"dataframe\">\n",
       "  <thead>\n",
       "    <tr style=\"text-align: right;\">\n",
       "      <th></th>\n",
       "      <th>z1</th>\n",
       "      <th>z2</th>\n",
       "      <th>z3</th>\n",
       "      <th>z4</th>\n",
       "    </tr>\n",
       "  </thead>\n",
       "  <tbody>\n",
       "    <tr>\n",
       "      <th>x1</th>\n",
       "      <td>0.5</td>\n",
       "      <td>0.4</td>\n",
       "      <td>0.5</td>\n",
       "      <td>0.3</td>\n",
       "    </tr>\n",
       "    <tr>\n",
       "      <th>x2</th>\n",
       "      <td>0.1</td>\n",
       "      <td>0.1</td>\n",
       "      <td>0.1</td>\n",
       "      <td>0.1</td>\n",
       "    </tr>\n",
       "    <tr>\n",
       "      <th>x3</th>\n",
       "      <td>0.4</td>\n",
       "      <td>0.4</td>\n",
       "      <td>0.4</td>\n",
       "      <td>0.3</td>\n",
       "    </tr>\n",
       "    <tr>\n",
       "      <th>x4</th>\n",
       "      <td>0.5</td>\n",
       "      <td>0.4</td>\n",
       "      <td>0.5</td>\n",
       "      <td>0.3</td>\n",
       "    </tr>\n",
       "  </tbody>\n",
       "</table>\n",
       "</div>"
      ],
      "text/plain": [
       "     z1   z2   z3   z4\n",
       "x1  0.5  0.4  0.5  0.3\n",
       "x2  0.1  0.1  0.1  0.1\n",
       "x3  0.4  0.4  0.4  0.3\n",
       "x4  0.5  0.4  0.5  0.3"
      ]
     },
     "execution_count": 10,
     "metadata": {},
     "output_type": "execute_result"
    }
   ],
   "source": [
    "def MinMaxComposition(A, B):    \n",
    "    \n",
    "    A1 = np.array(A)\n",
    "    B1 = np.array(B)\n",
    "    \n",
    "    data = np.zeros((len(A1), len(B1[0])))\n",
    "    \n",
    "    for i in range(len(A1)):\n",
    "        \n",
    "        for j in range(len(B1[0])):\n",
    "            \n",
    "            min = []\n",
    "            \n",
    "            for k in range(len(B1)):\n",
    "                \n",
    "                min.append(np.minimum(A1[i][k], B1[k][j]))\n",
    "                \n",
    "            data[i][j] = np.max(min)\n",
    "    \n",
    "    return pd.DataFrame(data, index = A.index, columns = B.columns)\n",
    "\n",
    "minmaxcomp = MinMaxComposition(CP_XY, CP_YZ)\n",
    "\n",
    "minmaxcomp"
   ]
  }
 ],
 "metadata": {
  "kernelspec": {
   "display_name": "Python 3",
   "language": "python",
   "name": "python3"
  },
  "language_info": {
   "codemirror_mode": {
    "name": "ipython",
    "version": 3
   },
   "file_extension": ".py",
   "mimetype": "text/x-python",
   "name": "python",
   "nbconvert_exporter": "python",
   "pygments_lexer": "ipython3",
   "version": "3.8.3"
  }
 },
 "nbformat": 4,
 "nbformat_minor": 4
}
